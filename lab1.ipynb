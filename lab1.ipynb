{
  "nbformat": 4,
  "nbformat_minor": 0,
  "metadata": {
    "colab": {
      "provenance": [],
      "include_colab_link": true
    },
    "kernelspec": {
      "name": "python3",
      "display_name": "Python 3"
    },
    "language_info": {
      "name": "python"
    }
  },
  "cells": [
    {
      "cell_type": "markdown",
      "metadata": {
        "id": "view-in-github",
        "colab_type": "text"
      },
      "source": [
        "<a href=\"https://colab.research.google.com/github/blexedkarthi/gen_ai/blob/main/lab1.ipynb\" target=\"_parent\"><img src=\"https://colab.research.google.com/assets/colab-badge.svg\" alt=\"Open In Colab\"/></a>"
      ]
    },
    {
      "cell_type": "markdown",
      "source": [
        "Explore pre-trained word vectors. Explore word relationships using vector arithmetic. Perform arithmetic\n",
        "operations and analyze results."
      ],
      "metadata": {
        "id": "3q9O4HXeKYp4"
      }
    },
    {
      "cell_type": "code",
      "execution_count": null,
      "metadata": {
        "id": "w1VGaPPzAINB"
      },
      "outputs": [],
      "source": [
        "from gensim.models import KeyedVectors\n",
        "from gensim.downloader import load"
      ]
    },
    {
      "cell_type": "code",
      "source": [
        "print('Loading the model,please wait......')\n",
        "model=load('glove-wiki-gigaword-50')\n",
        "print('Model loaded sucessfully!!')"
      ],
      "metadata": {
        "colab": {
          "base_uri": "https://localhost:8080/"
        },
        "id": "C2oMTTcDAfKs",
        "outputId": "ed845339-efb5-46bc-ce4c-527ba093d9d1"
      },
      "execution_count": null,
      "outputs": [
        {
          "output_type": "stream",
          "name": "stdout",
          "text": [
            "Loading the model,please wait......\n",
            "[==================================================] 100.0% 66.0/66.0MB downloaded\n",
            "Model loaded sucessfully!!\n"
          ]
        }
      ]
    },
    {
      "cell_type": "code",
      "source": [
        "word=model['king']\n",
        "print(f\"\\nVector for 'king':\\n{word}\")"
      ],
      "metadata": {
        "colab": {
          "base_uri": "https://localhost:8080/"
        },
        "id": "LuSNUMe6A5YL",
        "outputId": "6d69547f-5939-42ae-def2-ada5011e6a1a"
      },
      "execution_count": null,
      "outputs": [
        {
          "output_type": "stream",
          "name": "stdout",
          "text": [
            "\n",
            "Vector for 'king':\n",
            "[ 0.50451   0.68607  -0.59517  -0.022801  0.60046  -0.13498  -0.08813\n",
            "  0.47377  -0.61798  -0.31012  -0.076666  1.493    -0.034189 -0.98173\n",
            "  0.68229   0.81722  -0.51874  -0.31503  -0.55809   0.66421   0.1961\n",
            " -0.13495  -0.11476  -0.30344   0.41177  -2.223    -1.0756   -1.0783\n",
            " -0.34354   0.33505   1.9927   -0.04234  -0.64319   0.71125   0.49159\n",
            "  0.16754   0.34344  -0.25663  -0.8523    0.1661    0.40102   1.1685\n",
            " -1.0137   -0.21585  -0.15155   0.78321  -0.91241  -1.6106   -0.64426\n",
            " -0.51042 ]\n"
          ]
        }
      ]
    },
    {
      "cell_type": "code",
      "source": [
        "result=model.most_similar(positive=['king','women'],negative=['man'],topn=1)\n",
        "print(f\"\\n'King'-'man'+'women'~={result[0][0]} with similar score {result[0][1]:.2f}\")"
      ],
      "metadata": {
        "colab": {
          "base_uri": "https://localhost:8080/"
        },
        "id": "ic8TNlJvBOm2",
        "outputId": "a506a143-0eb1-44cc-f6b8-0703c9923052"
      },
      "execution_count": null,
      "outputs": [
        {
          "output_type": "stream",
          "name": "stdout",
          "text": [
            "\n",
            "'King'-'man'+'women'~=kingdom with similar score 0.70\n"
          ]
        }
      ]
    },
    {
      "cell_type": "code",
      "source": [
        "similarity=model.similarity('king','queen')\n",
        "print(f\"\\nSimilar between 'king' and 'queen':{similarity:.2f}\")"
      ],
      "metadata": {
        "colab": {
          "base_uri": "https://localhost:8080/"
        },
        "id": "2-6AiNfRCD8V",
        "outputId": "cd0205c6-ff96-486a-999b-5ad37b534e23"
      },
      "execution_count": null,
      "outputs": [
        {
          "output_type": "stream",
          "name": "stdout",
          "text": [
            "\n",
            "Similar between 'king' and 'queen':0.78\n"
          ]
        }
      ]
    },
    {
      "cell_type": "code",
      "source": [
        "odd_one=model.doesnt_match(['breakfast','lunch','car','dinner'])\n",
        "print(f\"\\nOdd one out:{odd_one}\")"
      ],
      "metadata": {
        "colab": {
          "base_uri": "https://localhost:8080/"
        },
        "id": "Ke-oge1dDKnq",
        "outputId": "3bd0b70c-cd47-436b-ddde-b34dffc3d899"
      },
      "execution_count": null,
      "outputs": [
        {
          "output_type": "stream",
          "name": "stdout",
          "text": [
            "\n",
            "Odd one out:car\n"
          ]
        }
      ]
    },
    {
      "cell_type": "code",
      "source": [],
      "metadata": {
        "id": "ABiRvgDFDkeL"
      },
      "execution_count": null,
      "outputs": []
    }
  ]
}